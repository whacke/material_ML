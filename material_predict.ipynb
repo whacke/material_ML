{
 "cells": [
  {
   "cell_type": "code",
   "execution_count": 37,
   "id": "44424765",
   "metadata": {},
   "outputs": [],
   "source": [
    "# Load scikit's random forest classifier library\n",
    "from sklearn.ensemble import RandomForestClassifier\n",
    "\n",
    "# Load pandas\n",
    "import pandas as pd\n",
    "\n",
    "from sklearn.metrics import classification_report, confusion_matrix\n",
    "\n",
    "from sklearn.model_selection import train_test_split\n",
    "from sklearn.preprocessing import StandardScaler\n",
    "\n",
    "import os\n",
    "import json\n",
    "\n",
    "import numpy as np"
   ]
  },
  {
   "cell_type": "code",
   "execution_count": 19,
   "id": "b7e8ec54",
   "metadata": {},
   "outputs": [
    {
     "data": {
      "text/plain": [
       "137886"
      ]
     },
     "execution_count": 19,
     "metadata": {},
     "output_type": "execute_result"
    }
   ],
   "source": [
    "all_files = os.listdir('JSONs\\JSONs')\n",
    "len(all_files)"
   ]
  },
  {
   "cell_type": "code",
   "execution_count": 20,
   "id": "76279b33",
   "metadata": {},
   "outputs": [
    {
     "data": {
      "text/plain": [
       "2961"
      ]
     },
     "execution_count": 20,
     "metadata": {},
     "output_type": "execute_result"
    }
   ],
   "source": [
    "files_2d = os.listdir('2d/2d')\n",
    "len(files_2d)"
   ]
  },
  {
   "cell_type": "code",
   "execution_count": 21,
   "id": "d3960bbd",
   "metadata": {},
   "outputs": [
    {
     "data": {
      "text/plain": [
       "772"
      ]
     },
     "execution_count": 21,
     "metadata": {},
     "output_type": "execute_result"
    }
   ],
   "source": [
    "files_1d = os.listdir('1d/1d')\n",
    "len(files_1d)"
   ]
  },
  {
   "cell_type": "code",
   "execution_count": 22,
   "id": "44fb32f4",
   "metadata": {},
   "outputs": [],
   "source": [
    "def process_dict(data, properties = {}):\n",
    "    for k in data.keys():\n",
    "        if isinstance(data.get(k),float) or isinstance(data.get(k),int) or isinstance(data.get(k),bool):\n",
    "            properties[k]= data.get(k)\n",
    "        \n",
    "        if isinstance(data.get(k), dict):\n",
    "            temp = data.get(k)\n",
    "            properties = process_dict(temp,properties)\n",
    "            \n",
    "        if isinstance(data.get(k), list):\n",
    "            if len(data.get(k)) and isinstance(data.get(k)[0], dict):\n",
    "                properties = process_dict(data.get(k)[0],properties)\n",
    "                \n",
    "    return properties"
   ]
  },
  {
   "cell_type": "code",
   "execution_count": 23,
   "id": "dd78186d",
   "metadata": {},
   "outputs": [
    {
     "data": {
      "text/plain": [
       "'mp-1000.json'"
      ]
     },
     "execution_count": 23,
     "metadata": {},
     "output_type": "execute_result"
    }
   ],
   "source": [
    "all_files[4]"
   ]
  },
  {
   "cell_type": "code",
   "execution_count": 24,
   "id": "cf654451",
   "metadata": {
    "scrolled": false
   },
   "outputs": [
    {
     "data": {
      "text/plain": [
       "\"\\nwith open('JSONs\\\\JSONs\\\\{}'.format(all_files[4])) as f:\\n        data = json.loads(f.read())\\nproperties = process_dict(data, {})\\nproperties['name'] = all_files[4].split('.')[0]\\nproperties['class'] = '2D'\\nmaterials.append(properties)\\n\""
      ]
     },
     "execution_count": 24,
     "metadata": {},
     "output_type": "execute_result"
    }
   ],
   "source": [
    "materials = []\n",
    "'''\n",
    "for file in all_files:\n",
    "    with open('JSONs\\JSONs\\{}'.format(file)) as f:\n",
    "        data = json.loads(f.read())\n",
    "    properties = process_dict(data, {})\n",
    "    properties['name'] = file.split('.')[0]\n",
    "    properties['class'] = '2D'\n",
    "    materials.append(properties)\n",
    "'''\n",
    "\n",
    "for file in files_2d:\n",
    "    with open('2d/2d/{}'.format(file)) as f:\n",
    "        data = json.loads(f.read())\n",
    "    properties = process_dict(data, {})\n",
    "    properties['name'] = file.split('.')[0]\n",
    "    properties['class'] = '2D'\n",
    "    materials.append(properties)\n",
    "\n",
    "for file in files_1d:\n",
    "    with open('1d/1d/{}'.format(file)) as f:\n",
    "        data = json.loads(f.read())\n",
    "    properties = process_dict(data, {})\n",
    "    properties['name'] = file.split('.')[0]\n",
    "    properties['class'] = '1D'\n",
    "    materials.append(properties)\n",
    "\n",
    "'''\n",
    "with open('JSONs\\JSONs\\{}'.format(all_files[4])) as f:\n",
    "        data = json.loads(f.read())\n",
    "properties = process_dict(data, {})\n",
    "properties['name'] = all_files[4].split('.')[0]\n",
    "properties['class'] = '2D'\n",
    "materials.append(properties)\n",
    "'''"
   ]
  },
  {
   "cell_type": "code",
   "execution_count": 25,
   "id": "07ccbae2",
   "metadata": {},
   "outputs": [
    {
     "name": "stdout",
     "output_type": "stream",
     "text": [
      "3733\n"
     ]
    }
   ],
   "source": [
    "print(len(materials))"
   ]
  },
  {
   "cell_type": "code",
   "execution_count": 27,
   "id": "eae0ae61",
   "metadata": {},
   "outputs": [
    {
     "data": {
      "text/html": [
       "<div>\n",
       "<style scoped>\n",
       "    .dataframe tbody tr th:only-of-type {\n",
       "        vertical-align: middle;\n",
       "    }\n",
       "\n",
       "    .dataframe tbody tr th {\n",
       "        vertical-align: top;\n",
       "    }\n",
       "\n",
       "    .dataframe thead th {\n",
       "        text-align: right;\n",
       "    }\n",
       "</style>\n",
       "<table border=\"1\" class=\"dataframe\">\n",
       "  <thead>\n",
       "    <tr style=\"text-align: right;\">\n",
       "      <th></th>\n",
       "      <th>A</th>\n",
       "      <th>B</th>\n",
       "      <th>band_gap</th>\n",
       "      <th>density</th>\n",
       "      <th>deprecated</th>\n",
       "      <th>e_above_hull</th>\n",
       "      <th>efermi</th>\n",
       "      <th>encut</th>\n",
       "      <th>final_energy</th>\n",
       "      <th>final_energy_per_atom</th>\n",
       "      <th>...</th>\n",
       "      <th>LMAXTAU</th>\n",
       "      <th>weight</th>\n",
       "      <th>NGY</th>\n",
       "      <th>NGX</th>\n",
       "      <th>Ac</th>\n",
       "      <th>SYMPREC</th>\n",
       "      <th>Pa</th>\n",
       "      <th>structureid</th>\n",
       "      <th>NGZ</th>\n",
       "      <th>Rb</th>\n",
       "    </tr>\n",
       "    <tr>\n",
       "      <th>name</th>\n",
       "      <th></th>\n",
       "      <th></th>\n",
       "      <th></th>\n",
       "      <th></th>\n",
       "      <th></th>\n",
       "      <th></th>\n",
       "      <th></th>\n",
       "      <th></th>\n",
       "      <th></th>\n",
       "      <th></th>\n",
       "      <th></th>\n",
       "      <th></th>\n",
       "      <th></th>\n",
       "      <th></th>\n",
       "      <th></th>\n",
       "      <th></th>\n",
       "      <th></th>\n",
       "      <th></th>\n",
       "      <th></th>\n",
       "      <th></th>\n",
       "      <th></th>\n",
       "    </tr>\n",
       "  </thead>\n",
       "  <tbody>\n",
       "    <tr>\n",
       "      <th>mp-10009</th>\n",
       "      <td>1.0</td>\n",
       "      <td>1.0</td>\n",
       "      <td>0.898</td>\n",
       "      <td>4.804723</td>\n",
       "      <td>False</td>\n",
       "      <td>0.00000</td>\n",
       "      <td>2.675483</td>\n",
       "      <td>520.0</td>\n",
       "      <td>-27.598327</td>\n",
       "      <td>-3.449791</td>\n",
       "      <td>...</td>\n",
       "      <td>NaN</td>\n",
       "      <td>NaN</td>\n",
       "      <td>NaN</td>\n",
       "      <td>NaN</td>\n",
       "      <td>NaN</td>\n",
       "      <td>NaN</td>\n",
       "      <td>NaN</td>\n",
       "      <td>NaN</td>\n",
       "      <td>NaN</td>\n",
       "      <td>NaN</td>\n",
       "    </tr>\n",
       "    <tr>\n",
       "      <th>mp-10014</th>\n",
       "      <td>1.0</td>\n",
       "      <td>2.0</td>\n",
       "      <td>0.000</td>\n",
       "      <td>6.161496</td>\n",
       "      <td>False</td>\n",
       "      <td>0.00033</td>\n",
       "      <td>3.394650</td>\n",
       "      <td>520.0</td>\n",
       "      <td>-23.275075</td>\n",
       "      <td>-7.758358</td>\n",
       "      <td>...</td>\n",
       "      <td>NaN</td>\n",
       "      <td>NaN</td>\n",
       "      <td>NaN</td>\n",
       "      <td>NaN</td>\n",
       "      <td>NaN</td>\n",
       "      <td>NaN</td>\n",
       "      <td>NaN</td>\n",
       "      <td>NaN</td>\n",
       "      <td>NaN</td>\n",
       "      <td>NaN</td>\n",
       "    </tr>\n",
       "    <tr>\n",
       "      <th>mp-10021</th>\n",
       "      <td>1.0</td>\n",
       "      <td>NaN</td>\n",
       "      <td>0.000</td>\n",
       "      <td>6.092337</td>\n",
       "      <td>False</td>\n",
       "      <td>0.01726</td>\n",
       "      <td>3.458981</td>\n",
       "      <td>520.0</td>\n",
       "      <td>-6.021659</td>\n",
       "      <td>-3.010830</td>\n",
       "      <td>...</td>\n",
       "      <td>NaN</td>\n",
       "      <td>NaN</td>\n",
       "      <td>NaN</td>\n",
       "      <td>NaN</td>\n",
       "      <td>NaN</td>\n",
       "      <td>NaN</td>\n",
       "      <td>NaN</td>\n",
       "      <td>NaN</td>\n",
       "      <td>NaN</td>\n",
       "      <td>NaN</td>\n",
       "    </tr>\n",
       "  </tbody>\n",
       "</table>\n",
       "<p>3 rows × 184 columns</p>\n",
       "</div>"
      ],
      "text/plain": [
       "            A    B  band_gap   density  deprecated  e_above_hull    efermi  \\\n",
       "name                                                                         \n",
       "mp-10009  1.0  1.0     0.898  4.804723       False       0.00000  2.675483   \n",
       "mp-10014  1.0  2.0     0.000  6.161496       False       0.00033  3.394650   \n",
       "mp-10021  1.0  NaN     0.000  6.092337       False       0.01726  3.458981   \n",
       "\n",
       "          encut  final_energy  final_energy_per_atom  ...  LMAXTAU  weight  \\\n",
       "name                                                  ...                    \n",
       "mp-10009  520.0    -27.598327              -3.449791  ...      NaN     NaN   \n",
       "mp-10014  520.0    -23.275075              -7.758358  ...      NaN     NaN   \n",
       "mp-10021  520.0     -6.021659              -3.010830  ...      NaN     NaN   \n",
       "\n",
       "          NGY  NGX  Ac  SYMPREC  Pa  structureid  NGZ  Rb  \n",
       "name                                                       \n",
       "mp-10009  NaN  NaN NaN      NaN NaN          NaN  NaN NaN  \n",
       "mp-10014  NaN  NaN NaN      NaN NaN          NaN  NaN NaN  \n",
       "mp-10021  NaN  NaN NaN      NaN NaN          NaN  NaN NaN  \n",
       "\n",
       "[3 rows x 184 columns]"
      ]
     },
     "execution_count": 27,
     "metadata": {},
     "output_type": "execute_result"
    }
   ],
   "source": [
    "df = pd.DataFrame(materials)\n",
    "df.set_index('name',inplace=True)\n",
    "df.head(3)"
   ]
  },
  {
   "cell_type": "code",
   "execution_count": 46,
   "id": "c1e22648",
   "metadata": {},
   "outputs": [
    {
     "data": {
      "text/plain": [
       "Index(['A', 'B', 'band_gap', 'density', 'deprecated', 'e_above_hull', 'efermi',\n",
       "       'encut', 'final_energy', 'final_energy_per_atom',\n",
       "       ...\n",
       "       'LMAXTAU', 'weight', 'NGY', 'NGX', 'Ac', 'SYMPREC', 'Pa', 'structureid',\n",
       "       'NGZ', 'Rb'],\n",
       "      dtype='object', length=184)"
      ]
     },
     "execution_count": 46,
     "metadata": {},
     "output_type": "execute_result"
    }
   ],
   "source": [
    "df.columns"
   ]
  },
  {
   "cell_type": "code",
   "execution_count": 28,
   "id": "5b7e0ca1",
   "metadata": {},
   "outputs": [],
   "source": [
    "bool_columns = list(df.dtypes[df.dtypes==bool].index)\n",
    "for col in bool_columns:\n",
    "    df[col] = df[col].astype(int)"
   ]
  },
  {
   "cell_type": "code",
   "execution_count": 29,
   "id": "78798d3e",
   "metadata": {},
   "outputs": [],
   "source": [
    "# 1 means 2D, 0 means 1D\n",
    "df['class'] = df['class'].astype('category').cat.codes"
   ]
  },
  {
   "cell_type": "code",
   "execution_count": 40,
   "id": "2cb90bc6",
   "metadata": {},
   "outputs": [],
   "source": [
    "scaler = StandardScaler()\n",
    "X = df[list(set(df.columns)-set(['class']))]\n",
    "y= df['class']\n",
    "X = X.replace(np.nan,0)\n",
    "X_norm = scaler.fit_transform(X)"
   ]
  },
  {
   "cell_type": "code",
   "execution_count": 72,
   "id": "22067eb5",
   "metadata": {},
   "outputs": [],
   "source": [
    "X_train, X_test, y_train, y_test = train_test_split(X, y, test_size=0.60)"
   ]
  },
  {
   "cell_type": "code",
   "execution_count": 73,
   "id": "3c84871b",
   "metadata": {},
   "outputs": [],
   "source": [
    "\n",
    "scaler.fit(X_train)\n",
    "\n",
    "X_train = scaler.transform(X_train)\n",
    "X_test = scaler.transform(X_test)"
   ]
  },
  {
   "cell_type": "code",
   "execution_count": 74,
   "id": "9108a4c5",
   "metadata": {},
   "outputs": [
    {
     "data": {
      "text/plain": [
       "RandomForestClassifier(n_jobs=2, random_state=0)"
      ]
     },
     "execution_count": 74,
     "metadata": {},
     "output_type": "execute_result"
    }
   ],
   "source": [
    "clf = RandomForestClassifier(n_jobs=2, random_state=0)\n",
    "clf.fit(X_train, y_train)"
   ]
  },
  {
   "cell_type": "code",
   "execution_count": 75,
   "id": "ad80802a",
   "metadata": {},
   "outputs": [
    {
     "name": "stdout",
     "output_type": "stream",
     "text": [
      "('A', 0.11492562601954653)\n",
      "('B', 0.0)\n",
      "('band_gap', 0.0)\n",
      "('density', 1.5272742727614208)\n",
      "('deprecated', 2.074590102101393)\n",
      "('e_above_hull', 0.057676611979812296)\n",
      "('efermi', 0.08898826954968439)\n",
      "('encut', 0.18911963571339271)\n",
      "('final_energy', 0.0)\n",
      "('final_energy_per_atom', 0.26517797829161716)\n",
      "('formation_energy_per_atom', 2.6862957110251378)\n",
      "('has_bandstructure', 0.5731976781560556)\n",
      "('a', 3.3163731086934525)\n",
      "('b', 0.33534002308574584)\n",
      "('c', 0.0)\n",
      "('alpha', 0.13673650615202204)\n",
      "('beta', 0.3354129182874799)\n",
      "('gamma', 0.39795913668612004)\n",
      "('volume', 3.304281491906725)\n",
      "('occu', 0.5576192077184549)\n",
      "('ISIF', 0.0)\n",
      "('IBRION', 0.15671230785038967)\n",
      "('NSW', 0.0)\n",
      "('NELM', 2.1538268763557524)\n",
      "('ISPIN', 0.13005428795722715)\n",
      "('ENCUT', 0.021279725317812304)\n",
      "('EDIFF', 0.48528291937287016)\n",
      "('NELMIN', 2.9052093164180115)\n",
      "('ISMEAR', 0.16355218798321805)\n",
      "('SIGMA', 0.14842062106055073)\n",
      "('LWAVE', 0.21038447063047389)\n",
      "('ICHARG', 0.14365811826513317)\n",
      "('NPAR', 1.2592996015591442)\n",
      "('nkpoints', 0.10348009306933609)\n",
      "('tet_number', 0.43855778482279034)\n",
      "('tet_weight', 0.04019599661101645)\n",
      "('is_compatible', 0.29680755746653487)\n",
      "('is_hubbard', 0.05087017223171076)\n",
      "('is_ordered', 0.0032696348079379266)\n",
      "('nelements', 0.8438344442004053)\n",
      "('nsites', 0.7633238502477091)\n",
      "('ntask_ids', 0.050697857387456254)\n",
      "('Ga', 2.4438833978955405)\n",
      "('Te', 0.18356697247063003)\n",
      "('magmom', 0.11004618356076573)\n",
      "('experimental', 0.018562281160253997)\n",
      "('_experimental', 3.5473178305476596)\n",
      "('symprec', 0.0)\n",
      "('number', 0.4758007665048034)\n",
      "('total_magnetization', 0.090742803270762)\n",
      "('in_angstroms', 3.3749246639074664)\n",
      "('G_Reuss', 0.01751210503983415)\n",
      "('G_VRH', 0.0)\n",
      "('G_Voigt', 0.9673357866214871)\n",
      "('G_Voigt_Reuss_Hill', 1.7821554897137752)\n",
      "('K_Reuss', 3.918429087029139)\n",
      "('K_VRH', 0.4992815058345408)\n",
      "('K_Voigt', 0.012475718447419038)\n",
      "('K_Voigt_Reuss_Hill', 0.0)\n",
      "('elastic_anisotropy', 0.7043393050621117)\n",
      "('homogeneous_poisson', 0.08990924489106887)\n",
      "('poisson_ratio', 0.5596822855849205)\n",
      "('universal_anisotropy', 0.02053546887610593)\n",
      "('class', 0.001988757459505541)\n",
      "('amount', 0.06257282395735113)\n",
      "('Ta', 0.10500829832142669)\n",
      "('S', 0.005699573899896322)\n",
      "('C', 0.5230836941921462)\n",
      "('Mn', 0.059947860819682675)\n",
      "('H', 5.04518129210302)\n",
      "('O', 0.3950075770761531)\n",
      "('EDIFFG', 0.1351527647542695)\n",
      "('ISYM', 0.14544801552561482)\n",
      "('LASPH', 0.4305687732189142)\n",
      "('LDAU', 1.6429796098171963)\n",
      "('LDAUPRINT', 0.17116024561600235)\n",
      "('LDAUTYPE', 0.06019825099048804)\n",
      "('LMAXMIX', 0.08232377390963722)\n",
      "('LORBIT', 0.0)\n",
      "('KPAR', 0.07107608133589464)\n",
      "('Nb', 0.15589074887987894)\n",
      "('Ce', 2.4349034987720395)\n",
      "('P', 0.019099019996418255)\n",
      "('Mg', 0.09794685789495089)\n",
      "('In', 0.34771376959231337)\n",
      "('Se', 0.0)\n",
      "('icsd_id', 0.1272414625790639)\n",
      "('V', 0.13212335164568093)\n",
      "('NCORE', 1.6253389291476346)\n",
      "('Co', 0.25413210201433856)\n",
      "('Pb', 0.0)\n",
      "('Ti', 0.0)\n",
      "('Cl', 0.10337690836799981)\n",
      "('Re', 0.0)\n",
      "('Zr', 0.003980748567248421)\n",
      "('ADDGRID', 0.042744786304879386)\n",
      "('LAECHG', 0.38094445845203934)\n",
      "('LREAL', 0.006435972621598059)\n",
      "('I', 0.0)\n",
      "('n', 6.893851952458899)\n",
      "('poly_electronic', 0.28957705885614304)\n",
      "('poly_total', 0.677733022614202)\n",
      "('Ho', 0.015241640331027328)\n",
      "('Mo', 0.09363675363607718)\n",
      "('Ge', 1.6812009765930989)\n",
      "('Pd', 0.6010867556476363)\n",
      "('AMIX_MAG', 0.2767210838147946)\n",
      "('BMIX', 0.0)\n",
      "('BMIX_MAG', 0.2735759396717582)\n",
      "('ISTART', 0.5439227268797419)\n",
      "('NELMDL', 0.0)\n",
      "('N', 0.19529729207224)\n",
      "('W', 0.34738713831268087)\n",
      "('eij_max', 0.46832863976239025)\n",
      "('Eu', 0.1082180258224851)\n",
      "('Y', 0.03528060603285616)\n",
      "('Si', 0.11159841501857712)\n",
      "('D', 0.4573040751309076)\n",
      "('Tb', 0.027257744724221322)\n",
      "('Br', 0.16428555072914183)\n",
      "('Cd', 0.0)\n",
      "('Cs', 0.1323582187528692)\n",
      "('Yb', 0.40691946853576627)\n",
      "('Al', 0.1915510316075379)\n",
      "('Cu', 0.11227715631326192)\n",
      "('Ir', 0.3616857273273965)\n",
      "('Hf', 0.18190123079431694)\n",
      "('Ba', 0.009372034090690477)\n",
      "('Th', 0.003288450572629773)\n",
      "('E', 0.0)\n",
      "('Ni', 0.0)\n",
      "('Na', 0.03011774072175873)\n",
      "('Zn', 1.1544510873879674)\n",
      "('Sn', 0.7756490723583609)\n",
      "('Bi', 0.06379048782491083)\n",
      "('Sb', 0.031565116441242866)\n",
      "('Cr', 0.2539326628008268)\n",
      "('Gd', 0.028845622209941767)\n",
      "('Fe', 0.0)\n",
      "('F', 0.36244124924093807)\n",
      "('Pr', 0.400893800077555)\n",
      "('Pt', 0.04441374701534495)\n",
      "('La', 0.33682931096237706)\n",
      "('Tc', 0.0)\n",
      "('Au', 0.21615089882026506)\n",
      "('Er', 0.000341611423333841)\n",
      "('Ru', 0.0)\n",
      "('Ca', 1.4038947420375172)\n",
      "('Tl', 0.2588239035061006)\n",
      "('Lu', 0.8786543929869843)\n",
      "('Dy', 0.20372037324835102)\n",
      "('Os', 0.0)\n",
      "('Tm', 0.37176442027702605)\n",
      "('U', 0.3686158412563743)\n",
      "('K', 0.0)\n",
      "('Ag', 0.0)\n",
      "('As', 0.25747024484404624)\n",
      "('Nd', 0.1709317029159783)\n",
      "('Sm', 1.5605452962334536)\n",
      "('Rh', 4.758291973809525)\n",
      "('LCALCPOL', 0.029424478875473205)\n",
      "('Li', 0.15520401037449294)\n",
      "('Hg', 0.3327398116509522)\n",
      "('Pm', 0.0)\n",
      "('Xe', 3.793331790904981)\n",
      "('Pu', 0.20379036573921835)\n",
      "('Sc', 0.07717490343399051)\n",
      "('Sr', 0.14791474315731776)\n",
      "('Np', 0.05763886908626804)\n",
      "('AMIX', 0.013226577863579125)\n",
      "('LCALCEPS', 0.5510521592960984)\n",
      "('LEFG', 0.058138144261539446)\n",
      "('LRHFATM', 0.26913910837420524)\n",
      "('LPEAD', 0.5248623974437496)\n",
      "('LMAXTAU', 0.3548856565100918)\n",
      "('weight', 0.08145861796762041)\n",
      "('NGY', 3.2271350075456984)\n",
      "('NGX', 0.6056939325532541)\n",
      "('Ac', 0.2703893526914314)\n",
      "('SYMPREC', 0.12904621433079363)\n",
      "('Pa', 0.08249589054127077)\n",
      "('structureid', 0.6054558936544947)\n",
      "('NGZ', 0.021351053244847085)\n",
      "Predicted    0     1\n",
      "Actual              \n",
      "0          205   239\n",
      "1           58  1738\n",
      "              precision    recall  f1-score   support\n",
      "\n",
      "           0       0.78      0.46      0.58       444\n",
      "           1       0.88      0.97      0.92      1796\n",
      "\n",
      "    accuracy                           0.87      2240\n",
      "   macro avg       0.83      0.71      0.75      2240\n",
      "weighted avg       0.86      0.87      0.85      2240\n",
      "\n"
     ]
    }
   ],
   "source": [
    "# View a list of the features and their importance scores (how important was this feature to the decision)\n",
    "y_pred = clf.predict(X_test)\n",
    "print(*list(zip(df.columns, clf.feature_importances_ * 100)), sep = \"\\n\")\n",
    "#print(confusion_matrix(y_test, y_pred))\n",
    "# Create confusion matrix\n",
    "print(pd.crosstab(y_test, y_pred, rownames=['Actual'], colnames=['Predicted']))\n",
    "print(classification_report(y_test, y_pred))"
   ]
  },
  {
   "cell_type": "code",
   "execution_count": null,
   "id": "75618daf",
   "metadata": {},
   "outputs": [],
   "source": []
  }
 ],
 "metadata": {
  "kernelspec": {
   "display_name": "Python 3",
   "language": "python",
   "name": "python3"
  },
  "language_info": {
   "codemirror_mode": {
    "name": "ipython",
    "version": 3
   },
   "file_extension": ".py",
   "mimetype": "text/x-python",
   "name": "python",
   "nbconvert_exporter": "python",
   "pygments_lexer": "ipython3",
   "version": "3.9.5"
  }
 },
 "nbformat": 4,
 "nbformat_minor": 5
}
